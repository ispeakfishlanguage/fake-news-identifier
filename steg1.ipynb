{
 "cells": [
  {
   "cell_type": "markdown",
   "metadata": {},
   "source": [
    "# Projektbeskrivning - Maskininlärning/AI-projekt"
   ]
  },
  {
   "cell_type": "markdown",
   "metadata": {},
   "source": [
    "## Problem: Identifiera fake news"
   ]
  },
  {
   "cell_type": "markdown",
   "metadata": {},
   "source": [
    "I dagens samhälle har spridningen av falska nyheter (fake news) blivit ett allt större problem, särskilt genom digitala medier. Detta leder till att människor blir vilseledda, vilket påverkar beslut på både individuell och samhällsnivå. Målet med detta projekt är att utveckla en maskininlärningsmodell för att identifiera falska nyheter baserat på artiklarnas textinnehåll."
   ]
  },
  {
   "cell_type": "markdown",
   "metadata": {},
   "source": [
    "## Målsättning"
   ]
  },
  {
   "cell_type": "markdown",
   "metadata": {},
   "source": [
    "Målet med projektet är att skapa en klassificeringsmodell som kan skilja mellan sanna och falska nyhetsartiklar. För att uppnå detta kommer jag:\n",
    "\n",
    "1. Samla in data: Använda ett dataset som innehåller både falska och sanna nyheter.\n",
    "2. Utföra dataförberedelse: Rensa, bearbeta och förstå data.\n",
    "3. Skapa och utvärdera modeller: Träna olika maskininlärningsmodeller och jämföra deras prestanda.\n",
    "4. Implementera en slutgiltig modell: Implementera och optimera den bästa modellen."
   ]
  },
  {
   "cell_type": "markdown",
   "metadata": {},
   "source": [
    "## Dataset"
   ]
  },
  {
   "cell_type": "markdown",
   "metadata": {},
   "source": [
    "För detta projekt kommer jag att använda datasetet \"Fake News Detection\" från Kaggle. Det innehåller artiklar från olika källor, märkta som antingen sanna eller falska.\n",
    "\n"
   ]
  },
  {
   "cell_type": "markdown",
   "metadata": {},
   "source": [
    "#### Datasetets egenskaper:"
   ]
  },
  {
   "cell_type": "markdown",
   "metadata": {},
   "source": [
    "* Antal rader: 20,800+\n",
    "* Kolumner:\n",
    "    * `id`: Unikt identifieringsnummer för artikeln\n",
    "    * `title`: Titel på artikeln\n",
    "    * `author`: Författare till artikeln\n",
    "    * `text`: Själva artikeln\n",
    "    * `label`: Klassifikation av artikeln (0 = sann, 1 = falsk)\n"
   ]
  },
  {
   "cell_type": "markdown",
   "metadata": {},
   "source": [
    "#### Kvaliteten på data:"
   ]
  },
  {
   "cell_type": "markdown",
   "metadata": {},
   "source": [
    "* Vissa artiklar saknar författaruppgifter\n",
    "* Titeln och artikeltexten varierar i längd och kvalitet\n",
    "* `label`-kolumnen är min målvariabel"
   ]
  },
  {
   "cell_type": "markdown",
   "metadata": {},
   "source": [
    "### Utforskning av datasetet"
   ]
  },
  {
   "cell_type": "markdown",
   "metadata": {},
   "source": [
    "#### Dataförberedelsefrågor:"
   ]
  },
  {
   "cell_type": "markdown",
   "metadata": {},
   "source": [
    "* Är datasetet komplett?: Nej, vissa artiklar saknar data för författare.\n",
    "* Har datasetet null-värden?: Ja, vissa artiklar saknar data för author.\n",
    "* Har datasetet extrema värden?: Nej, inte identifierat i initial undersökning.\n",
    "* Vilka datatyper finns?:  \n",
    "    `id`: Heltal  \n",
    "    `title`: Sträng  \n",
    "    `author`: Sträng  \n",
    "    `text`: Sträng  \n",
    "    `label`: Heltal  "
   ]
  },
  {
   "cell_type": "markdown",
   "metadata": {},
   "source": [
    "#### Konvertering av fält till numeriskt format"
   ]
  },
  {
   "cell_type": "markdown",
   "metadata": {},
   "source": [
    "* `title`, `author` och `text` kommer att representeras genom textvektorisering (exempelvis TF-IDF eller Word Embeddings).\n",
    "* `label`-kolumnen är redan numerisk och behöver ingen konvertering.\n"
   ]
  },
  {
   "cell_type": "markdown",
   "metadata": {},
   "source": [
    "#### Typ av problem"
   ]
  },
  {
   "cell_type": "markdown",
   "metadata": {},
   "source": [
    "Detta är ett klassificeringsproblem där målet är att förutsäga `label` baserat på artikelns innehåll. Datasetet är märkt (labeled), vilket innebär att jag kan använda övervakad maskininlärning (supervised learning)."
   ]
  },
  {
   "cell_type": "markdown",
   "metadata": {},
   "source": [
    "### Modellstrategier"
   ]
  },
  {
   "cell_type": "markdown",
   "metadata": {},
   "source": [
    "#### Feature Extraction:"
   ]
  },
  {
   "cell_type": "markdown",
   "metadata": {},
   "source": [
    "* Använda TF-IDF för att representera textdata som numeriska värden.\n",
    "* Alternativt använda Word Embeddings (t.ex. GloVe, Word2Vec) för att fånga semantisk information."
   ]
  },
  {
   "cell_type": "markdown",
   "metadata": {},
   "source": [
    "#### Maskininlärningsmodeller"
   ]
  },
  {
   "cell_type": "markdown",
   "metadata": {},
   "source": [
    "* Enkelt träd: Decision Tree\n",
    "* Ensemblemetoder: Random Forest, XGBoost\n",
    "* Djupinlärning: RNN eller BERT\n"
   ]
  },
  {
   "cell_type": "markdown",
   "metadata": {},
   "source": [
    "#### Utvärdering:"
   ]
  },
  {
   "cell_type": "markdown",
   "metadata": {},
   "source": [
    "* Använda korsvalidering för att jämföra modeller.\n",
    "* Precision, recall, F1-score och ROC-AUC för att utvärdera modellens prestanda."
   ]
  },
  {
   "cell_type": "markdown",
   "metadata": {},
   "source": [
    "### Plan för steg 1"
   ]
  },
  {
   "cell_type": "markdown",
   "metadata": {},
   "source": [
    "#### 1. Problemdefinition och dataval:  "
   ]
  },
  {
   "cell_type": "markdown",
   "metadata": {},
   "source": [
    "* Problembeskrivning (klart).  \n",
    "* Välj dataset och utför initial datautforskning (klart)."
   ]
  },
  {
   "cell_type": "markdown",
   "metadata": {},
   "source": [
    "#### 2. Dataförberedelse:"
   ]
  },
  {
   "cell_type": "markdown",
   "metadata": {},
   "source": [
    "* Hantera null-värden och duplicerad data.\n",
    "* Utför textbearbetning som tokenisering, stopword-borttagning och stemming."
   ]
  },
  {
   "cell_type": "markdown",
   "metadata": {},
   "source": [
    "#### 3. Feature Engineering:"
   ]
  },
  {
   "cell_type": "markdown",
   "metadata": {},
   "source": [
    "* Använd TF-IDF för att representera textdata.\n",
    "* Utforska alternativa representationer som Word Embeddings."
   ]
  },
  {
   "cell_type": "markdown",
   "metadata": {},
   "source": [
    "#### 4. Modellering och utvärdering: "
   ]
  },
  {
   "cell_type": "markdown",
   "metadata": {},
   "source": [
    "* Implementera olika klassificeringsmodeller.\n",
    "* Jämför modeller baserat på prestandamått."
   ]
  },
  {
   "cell_type": "markdown",
   "metadata": {},
   "source": [
    "### Dokumentation"
   ]
  },
  {
   "cell_type": "markdown",
   "metadata": {},
   "source": [
    "Samla dokumentation som visar:  "
   ]
  },
  {
   "cell_type": "markdown",
   "metadata": {},
   "source": [
    "* Problembeskrivning (detta dokument).  \n",
    "* Initial datainspektion genom Jupyter Notebook.  \n",
    "* Beskrivning av data och eventuella brister.  \n",
    "* Hur data bearbetas för att passa modellens krav."
   ]
  },
  {
   "cell_type": "markdown",
   "metadata": {},
   "source": [
    "#### Nästa steg (Steg 2):"
   ]
  },
  {
   "cell_type": "markdown",
   "metadata": {},
   "source": [
    "Efter denna dokumentation ska en första version av modellen implementeras och utvärderas."
   ]
  },
  {
   "cell_type": "markdown",
   "metadata": {},
   "source": [
    "### Referenser"
   ]
  },
  {
   "cell_type": "markdown",
   "metadata": {},
   "source": [
    "Kaggle: Fake News Detection Dataset - https://www.kaggle.com/c/fake-news/data"
   ]
  }
 ],
 "metadata": {
  "language_info": {
   "name": "python"
  }
 },
 "nbformat": 4,
 "nbformat_minor": 2
}
